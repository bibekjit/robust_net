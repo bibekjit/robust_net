{
 "cells": [
  {
   "cell_type": "code",
   "execution_count": 1,
   "id": "a28a9137",
   "metadata": {},
   "outputs": [],
   "source": [
    "import pandas as pd\n",
    "import numpy as np\n",
    "from cosine_lr_scheduler import CosineLRScheduler\n",
    "from custom_tokenizer import BytePairEncodingTokenizer\n",
    "import re\n",
    "from string import punctuation\n",
    "import matplotlib.pyplot as plt\n",
    "from tqdm.auto import tqdm\n",
    "import tensorflow as tf\n",
    "\n",
    "from sklearn.metrics import classification_report, f1_score\n",
    "from sklearn.model_selection import train_test_split\n",
    "\n",
    "# load tokenizer\n",
    "\n",
    "tokenizer = BytePairEncodingTokenizer()\n",
    "tokenizer.load_tokenizer('tokenizer.pkl')\n",
    "\n",
    "tokenizer.maxlen = 256"
   ]
  },
  {
   "cell_type": "code",
   "execution_count": 2,
   "id": "a0901aa0",
   "metadata": {},
   "outputs": [],
   "source": [
    "df = pd.read_csv(\"/home/bibek/dataset/IMDB Dataset.csv\")\n",
    "X = df.review\n",
    "Y = df.sentiment.map({'positive':1,'negative':0})"
   ]
  },
  {
   "cell_type": "code",
   "execution_count": 3,
   "id": "37f8ca6d",
   "metadata": {},
   "outputs": [],
   "source": [
    "def preprocess_text(x,tweet=False):\n",
    "    \"\"\"\n",
    "    cleaning tweets -> \n",
    "    @user -> USER\n",
    "    urls -> LINK\n",
    "    keep only !,.:#? and add space \n",
    "    \"\"\"\n",
    "    x = str(x).replace('&amp;','and').replace('<br />','').replace('&quot;','').lower()\n",
    "    x = re.sub(r'&#x[0-9A-Fa-f]+;','',x)\n",
    "    x = re.sub(r'&#\\d+;',\"'\",x)\n",
    "    x = re.sub(r'[^\\x00-\\x7F]+', \"'\",x)\n",
    "    \n",
    "    url_pattern = r'http\\S+|www\\S+'\n",
    "    x = re.sub(url_pattern, 'LINK', x)\n",
    "    \n",
    "    punct_to_keep = \"\"\"!,.:#?\"-;//%$(){}@^*+<=>\\\\|'\"\"\"\n",
    "    punct = ''.join([p for p in punctuation if p not in punct_to_keep])\n",
    "    trans = str.maketrans(punct, ' ' * len(punct))\n",
    "    x = x.translate(trans)\n",
    "    x = ''.join(x)\n",
    "    x = re.sub(r'([!\"#$%&\\()*+,-./:;<=>?@\\\\^_`{|}~])\\s*\\1+', r'\\1', x)\n",
    "    x = re.sub(r'([!\"#$%&\\()*+,-./:;<=>?@\\\\^_`{|}~])', r' \\1 ', x)\n",
    "    x = re.sub(r'\\s+', ' ', x).strip().replace(\"'s \",\" 's \")\n",
    "    x = x.replace(\"\\\\'\",\" '\").replace(\"'\",\" ' \")\n",
    "    x = x + ' '\n",
    "    return re.sub(r'\\s+', ' ', x).strip()"
   ]
  },
  {
   "cell_type": "code",
   "execution_count": 4,
   "id": "a77a6714",
   "metadata": {},
   "outputs": [
    {
     "data": {
      "application/vnd.jupyter.widget-view+json": {
       "model_id": "730f65a897d84f778825931c1a4f1050",
       "version_major": 2,
       "version_minor": 0
      },
      "text/plain": [
       "  0%|          | 0/50000 [00:00<?, ?it/s]"
      ]
     },
     "metadata": {},
     "output_type": "display_data"
    },
    {
     "data": {
      "application/vnd.jupyter.widget-view+json": {
       "model_id": "cda3515e4fa24dfd86944a20233d0e39",
       "version_major": 2,
       "version_minor": 0
      },
      "text/plain": [
       "  0%|          | 0/50000 [00:00<?, ?it/s]"
      ]
     },
     "metadata": {},
     "output_type": "display_data"
    },
    {
     "data": {
      "application/vnd.jupyter.widget-view+json": {
       "model_id": "863b3503877940b39db7836c13b70cdd",
       "version_major": 2,
       "version_minor": 0
      },
      "text/plain": [
       "  0%|          | 0/50000 [00:00<?, ?it/s]"
      ]
     },
     "metadata": {},
     "output_type": "display_data"
    }
   ],
   "source": [
    "# preprocess, tokenize and pad sequences\n",
    "\n",
    "X = [preprocess_text(x) for x in tqdm(X)]\n",
    "X = [tokenizer.tokenize(x) for x in tqdm(X)]\n",
    "X = np.array([tokenizer.add_padding(x) for x in tqdm(X)],np.int16)"
   ]
  },
  {
   "cell_type": "code",
   "execution_count": 5,
   "id": "6b049aaa",
   "metadata": {},
   "outputs": [],
   "source": [
    "# split data in train, test and val\n",
    "\n",
    "xtrain,xtest,ytrain,ytest = train_test_split(X,Y,train_size=0.7,random_state=10)\n",
    "xtest,xval,ytest,yval = train_test_split(xtest,ytest,train_size=0.66,random_state=10)"
   ]
  },
  {
   "cell_type": "code",
   "execution_count": 6,
   "id": "4b93780e",
   "metadata": {},
   "outputs": [
    {
     "name": "stderr",
     "output_type": "stream",
     "text": [
      "2025-05-16 18:35:03.166045: E external/local_xla/xla/stream_executor/cuda/cuda_fft.cc:485] Unable to register cuFFT factory: Attempting to register factory for plugin cuFFT when one has already been registered\n",
      "2025-05-16 18:35:03.177592: E external/local_xla/xla/stream_executor/cuda/cuda_dnn.cc:8454] Unable to register cuDNN factory: Attempting to register factory for plugin cuDNN when one has already been registered\n",
      "2025-05-16 18:35:03.181038: E external/local_xla/xla/stream_executor/cuda/cuda_blas.cc:1452] Unable to register cuBLAS factory: Attempting to register factory for plugin cuBLAS when one has already been registered\n",
      "2025-05-16 18:35:03.189745: I tensorflow/core/platform/cpu_feature_guard.cc:210] This TensorFlow binary is optimized to use available CPU instructions in performance-critical operations.\n",
      "To enable the following instructions: AVX2 FMA, in other operations, rebuild TensorFlow with the appropriate compiler flags.\n",
      "2025-05-16 18:35:03.836682: W tensorflow/compiler/tf2tensorrt/utils/py_utils.cc:38] TF-TRT Warning: Could not find TensorRT\n",
      "WARNING: All log messages before absl::InitializeLog() is called are written to STDERR\n",
      "I0000 00:00:1747400705.961239    5323 cuda_executor.cc:1015] successful NUMA node read from SysFS had negative value (-1), but there must be at least one NUMA node, so returning NUMA node zero. See more at https://github.com/torvalds/linux/blob/v6.0/Documentation/ABI/testing/sysfs-bus-pci#L344-L355\n",
      "I0000 00:00:1747400705.984386    5323 cuda_executor.cc:1015] successful NUMA node read from SysFS had negative value (-1), but there must be at least one NUMA node, so returning NUMA node zero. See more at https://github.com/torvalds/linux/blob/v6.0/Documentation/ABI/testing/sysfs-bus-pci#L344-L355\n",
      "I0000 00:00:1747400705.984554    5323 cuda_executor.cc:1015] successful NUMA node read from SysFS had negative value (-1), but there must be at least one NUMA node, so returning NUMA node zero. See more at https://github.com/torvalds/linux/blob/v6.0/Documentation/ABI/testing/sysfs-bus-pci#L344-L355\n",
      "I0000 00:00:1747400706.499060    5323 cuda_executor.cc:1015] successful NUMA node read from SysFS had negative value (-1), but there must be at least one NUMA node, so returning NUMA node zero. See more at https://github.com/torvalds/linux/blob/v6.0/Documentation/ABI/testing/sysfs-bus-pci#L344-L355\n",
      "I0000 00:00:1747400706.499265    5323 cuda_executor.cc:1015] successful NUMA node read from SysFS had negative value (-1), but there must be at least one NUMA node, so returning NUMA node zero. See more at https://github.com/torvalds/linux/blob/v6.0/Documentation/ABI/testing/sysfs-bus-pci#L344-L355\n",
      "I0000 00:00:1747400706.499400    5323 cuda_executor.cc:1015] successful NUMA node read from SysFS had negative value (-1), but there must be at least one NUMA node, so returning NUMA node zero. See more at https://github.com/torvalds/linux/blob/v6.0/Documentation/ABI/testing/sysfs-bus-pci#L344-L355\n",
      "I0000 00:00:1747400706.546413    5323 cuda_executor.cc:1015] successful NUMA node read from SysFS had negative value (-1), but there must be at least one NUMA node, so returning NUMA node zero. See more at https://github.com/torvalds/linux/blob/v6.0/Documentation/ABI/testing/sysfs-bus-pci#L344-L355\n",
      "I0000 00:00:1747400706.546591    5323 cuda_executor.cc:1015] successful NUMA node read from SysFS had negative value (-1), but there must be at least one NUMA node, so returning NUMA node zero. See more at https://github.com/torvalds/linux/blob/v6.0/Documentation/ABI/testing/sysfs-bus-pci#L344-L355\n",
      "I0000 00:00:1747400706.546729    5323 cuda_executor.cc:1015] successful NUMA node read from SysFS had negative value (-1), but there must be at least one NUMA node, so returning NUMA node zero. See more at https://github.com/torvalds/linux/blob/v6.0/Documentation/ABI/testing/sysfs-bus-pci#L344-L355\n",
      "2025-05-16 18:35:06.546837: I tensorflow/core/common_runtime/gpu/gpu_device.cc:2021] Created device /job:localhost/replica:0/task:0/device:GPU:0 with 4778 MB memory:  -> device: 0, name: NVIDIA GeForce RTX 2060, pci bus id: 0000:01:00.0, compute capability: 7.5\n"
     ]
    }
   ],
   "source": [
    "# define training params\n",
    "\n",
    "MAXLEN = tokenizer.maxlen\n",
    "PEAK_LR = 2e-4\n",
    "END_LR = 1e-7\n",
    "INIT_LR = 0\n",
    "WARMUP_RATE = 0.05\n",
    "BATCH = 32\n",
    "EPOCHS = 3\n",
    "\n",
    "# load and build model\n",
    "\n",
    "model = tf.keras.models.load_model(\"robust_net.keras\")\n",
    "i1 = tf.keras.layers.Input((MAXLEN,),batch_size=BATCH)\n",
    "i2 = tf.keras.layers.Input((MAXLEN,),batch_size=BATCH)\n",
    "model([i1,i2])\n",
    "\n",
    "# load pretrained weights\n",
    "model.load_weights(\"robust_net.weights.h5\")"
   ]
  },
  {
   "cell_type": "code",
   "execution_count": 7,
   "id": "2d3a7441",
   "metadata": {},
   "outputs": [
    {
     "data": {
      "text/html": [
       "<pre style=\"white-space:pre;overflow-x:auto;line-height:normal;font-family:Menlo,'DejaVu Sans Mono',consolas,'Courier New',monospace\"><span style=\"font-weight: bold\">Model: \"functional\"</span>\n",
       "</pre>\n"
      ],
      "text/plain": [
       "\u001b[1mModel: \"functional\"\u001b[0m\n"
      ]
     },
     "metadata": {},
     "output_type": "display_data"
    },
    {
     "data": {
      "text/html": [
       "<pre style=\"white-space:pre;overflow-x:auto;line-height:normal;font-family:Menlo,'DejaVu Sans Mono',consolas,'Courier New',monospace\">┏━━━━━━━━━━━━━━━━━━━━━┳━━━━━━━━━━━━━━━━━━━┳━━━━━━━━━━━━┳━━━━━━━━━━━━━━━━━━━┓\n",
       "┃<span style=\"font-weight: bold\"> Layer (type)        </span>┃<span style=\"font-weight: bold\"> Output Shape      </span>┃<span style=\"font-weight: bold\">    Param # </span>┃<span style=\"font-weight: bold\"> Connected to      </span>┃\n",
       "┡━━━━━━━━━━━━━━━━━━━━━╇━━━━━━━━━━━━━━━━━━━╇━━━━━━━━━━━━╇━━━━━━━━━━━━━━━━━━━┩\n",
       "│ input_layer_2       │ (<span style=\"color: #00af00; text-decoration-color: #00af00\">32</span>, <span style=\"color: #00af00; text-decoration-color: #00af00\">256</span>)         │          <span style=\"color: #00af00; text-decoration-color: #00af00\">0</span> │ -                 │\n",
       "│ (<span style=\"color: #0087ff; text-decoration-color: #0087ff\">InputLayer</span>)        │                   │            │                   │\n",
       "├─────────────────────┼───────────────────┼────────────┼───────────────────┤\n",
       "│ factorized_embeddi… │ [(<span style=\"color: #00af00; text-decoration-color: #00af00\">32</span>, <span style=\"color: #00af00; text-decoration-color: #00af00\">256</span>, <span style=\"color: #00af00; text-decoration-color: #00af00\">256</span>),  │  <span style=\"color: #00af00; text-decoration-color: #00af00\">1,957,760</span> │ input_layer_2[<span style=\"color: #00af00; text-decoration-color: #00af00\">0</span>]… │\n",
       "│ (<span style=\"color: #0087ff; text-decoration-color: #0087ff\">FactorizedEmbeddi…</span> │ (<span style=\"color: #00af00; text-decoration-color: #00af00\">32</span>, <span style=\"color: #00af00; text-decoration-color: #00af00\">256</span>)]        │            │                   │\n",
       "├─────────────────────┼───────────────────┼────────────┼───────────────────┤\n",
       "│ encoder_block       │ (<span style=\"color: #00af00; text-decoration-color: #00af00\">32</span>, <span style=\"color: #00af00; text-decoration-color: #00af00\">256</span>, <span style=\"color: #00af00; text-decoration-color: #00af00\">256</span>)    │  <span style=\"color: #00af00; text-decoration-color: #00af00\">1,054,208</span> │ factorized_embed… │\n",
       "│ (<span style=\"color: #0087ff; text-decoration-color: #0087ff\">EncoderBlock</span>)      │                   │            │ factorized_embed… │\n",
       "├─────────────────────┼───────────────────┼────────────┼───────────────────┤\n",
       "│ global_average_poo… │ (<span style=\"color: #00af00; text-decoration-color: #00af00\">32</span>, <span style=\"color: #00af00; text-decoration-color: #00af00\">256</span>)         │          <span style=\"color: #00af00; text-decoration-color: #00af00\">0</span> │ encoder_block[<span style=\"color: #00af00; text-decoration-color: #00af00\">0</span>]… │\n",
       "│ (<span style=\"color: #0087ff; text-decoration-color: #0087ff\">GlobalAveragePool…</span> │                   │            │                   │\n",
       "├─────────────────────┼───────────────────┼────────────┼───────────────────┤\n",
       "│ dense_40 (<span style=\"color: #0087ff; text-decoration-color: #0087ff\">Dense</span>)    │ (<span style=\"color: #00af00; text-decoration-color: #00af00\">32</span>, <span style=\"color: #00af00; text-decoration-color: #00af00\">1</span>)           │        <span style=\"color: #00af00; text-decoration-color: #00af00\">257</span> │ global_average_p… │\n",
       "└─────────────────────┴───────────────────┴────────────┴───────────────────┘\n",
       "</pre>\n"
      ],
      "text/plain": [
       "┏━━━━━━━━━━━━━━━━━━━━━┳━━━━━━━━━━━━━━━━━━━┳━━━━━━━━━━━━┳━━━━━━━━━━━━━━━━━━━┓\n",
       "┃\u001b[1m \u001b[0m\u001b[1mLayer (type)       \u001b[0m\u001b[1m \u001b[0m┃\u001b[1m \u001b[0m\u001b[1mOutput Shape     \u001b[0m\u001b[1m \u001b[0m┃\u001b[1m \u001b[0m\u001b[1m   Param #\u001b[0m\u001b[1m \u001b[0m┃\u001b[1m \u001b[0m\u001b[1mConnected to     \u001b[0m\u001b[1m \u001b[0m┃\n",
       "┡━━━━━━━━━━━━━━━━━━━━━╇━━━━━━━━━━━━━━━━━━━╇━━━━━━━━━━━━╇━━━━━━━━━━━━━━━━━━━┩\n",
       "│ input_layer_2       │ (\u001b[38;5;34m32\u001b[0m, \u001b[38;5;34m256\u001b[0m)         │          \u001b[38;5;34m0\u001b[0m │ -                 │\n",
       "│ (\u001b[38;5;33mInputLayer\u001b[0m)        │                   │            │                   │\n",
       "├─────────────────────┼───────────────────┼────────────┼───────────────────┤\n",
       "│ factorized_embeddi… │ [(\u001b[38;5;34m32\u001b[0m, \u001b[38;5;34m256\u001b[0m, \u001b[38;5;34m256\u001b[0m),  │  \u001b[38;5;34m1,957,760\u001b[0m │ input_layer_2[\u001b[38;5;34m0\u001b[0m]… │\n",
       "│ (\u001b[38;5;33mFactorizedEmbeddi…\u001b[0m │ (\u001b[38;5;34m32\u001b[0m, \u001b[38;5;34m256\u001b[0m)]        │            │                   │\n",
       "├─────────────────────┼───────────────────┼────────────┼───────────────────┤\n",
       "│ encoder_block       │ (\u001b[38;5;34m32\u001b[0m, \u001b[38;5;34m256\u001b[0m, \u001b[38;5;34m256\u001b[0m)    │  \u001b[38;5;34m1,054,208\u001b[0m │ factorized_embed… │\n",
       "│ (\u001b[38;5;33mEncoderBlock\u001b[0m)      │                   │            │ factorized_embed… │\n",
       "├─────────────────────┼───────────────────┼────────────┼───────────────────┤\n",
       "│ global_average_poo… │ (\u001b[38;5;34m32\u001b[0m, \u001b[38;5;34m256\u001b[0m)         │          \u001b[38;5;34m0\u001b[0m │ encoder_block[\u001b[38;5;34m0\u001b[0m]… │\n",
       "│ (\u001b[38;5;33mGlobalAveragePool…\u001b[0m │                   │            │                   │\n",
       "├─────────────────────┼───────────────────┼────────────┼───────────────────┤\n",
       "│ dense_40 (\u001b[38;5;33mDense\u001b[0m)    │ (\u001b[38;5;34m32\u001b[0m, \u001b[38;5;34m1\u001b[0m)           │        \u001b[38;5;34m257\u001b[0m │ global_average_p… │\n",
       "└─────────────────────┴───────────────────┴────────────┴───────────────────┘\n"
      ]
     },
     "metadata": {},
     "output_type": "display_data"
    },
    {
     "data": {
      "text/html": [
       "<pre style=\"white-space:pre;overflow-x:auto;line-height:normal;font-family:Menlo,'DejaVu Sans Mono',consolas,'Courier New',monospace\"><span style=\"font-weight: bold\"> Total params: </span><span style=\"color: #00af00; text-decoration-color: #00af00\">3,012,225</span> (11.49 MB)\n",
       "</pre>\n"
      ],
      "text/plain": [
       "\u001b[1m Total params: \u001b[0m\u001b[38;5;34m3,012,225\u001b[0m (11.49 MB)\n"
      ]
     },
     "metadata": {},
     "output_type": "display_data"
    },
    {
     "data": {
      "text/html": [
       "<pre style=\"white-space:pre;overflow-x:auto;line-height:normal;font-family:Menlo,'DejaVu Sans Mono',consolas,'Courier New',monospace\"><span style=\"font-weight: bold\"> Trainable params: </span><span style=\"color: #00af00; text-decoration-color: #00af00\">3,012,225</span> (11.49 MB)\n",
       "</pre>\n"
      ],
      "text/plain": [
       "\u001b[1m Trainable params: \u001b[0m\u001b[38;5;34m3,012,225\u001b[0m (11.49 MB)\n"
      ]
     },
     "metadata": {},
     "output_type": "display_data"
    },
    {
     "data": {
      "text/html": [
       "<pre style=\"white-space:pre;overflow-x:auto;line-height:normal;font-family:Menlo,'DejaVu Sans Mono',consolas,'Courier New',monospace\"><span style=\"font-weight: bold\"> Non-trainable params: </span><span style=\"color: #00af00; text-decoration-color: #00af00\">0</span> (0.00 B)\n",
       "</pre>\n"
      ],
      "text/plain": [
       "\u001b[1m Non-trainable params: \u001b[0m\u001b[38;5;34m0\u001b[0m (0.00 B)\n"
      ]
     },
     "metadata": {},
     "output_type": "display_data"
    }
   ],
   "source": [
    "# for text classification task, we only need the embedding and encoder\n",
    "# extract embedding and encoder layer\n",
    "\n",
    "fact_emb_layer = model.layers[0]\n",
    "encoder = model.layers[1]\n",
    "\n",
    "# build the model \n",
    "\n",
    "i = tf.keras.layers.Input((MAXLEN,),batch_size=BATCH)\n",
    "x,mask = fact_emb_layer(i)\n",
    "x = encoder([x,mask])\n",
    "x = tf.keras.layers.GlobalAveragePooling1D()(x)\n",
    "o = tf.keras.layers.Dense(1,activation='sigmoid')(x)\n",
    "\n",
    "model = tf.keras.Model(i,o)\n",
    "\n",
    "model.summary()"
   ]
  },
  {
   "cell_type": "code",
   "execution_count": 8,
   "id": "f97c0a10",
   "metadata": {},
   "outputs": [],
   "source": [
    "# initialize loss function and optimizer\n",
    "\n",
    "loss_fn = tf.keras.losses.BinaryCrossentropy()\n",
    "opt = tf.keras.optimizers.AdamW(weight_decay=0.01)\n",
    "\n",
    "# prepare data as tensor for training\n",
    "\n",
    "train = tf.data.Dataset.from_tensor_slices((xtrain,ytrain))\n",
    "train = train.batch(batch_size=BATCH).shuffle(buffer_size=100)\n",
    "\n",
    "valid = tf.data.Dataset.from_tensor_slices((xval,yval)).batch(batch_size=BATCH)"
   ]
  },
  {
   "cell_type": "code",
   "execution_count": 9,
   "id": "5ac90ec9",
   "metadata": {},
   "outputs": [
    {
     "data": {
      "text/plain": [
       "[<matplotlib.lines.Line2D at 0x72d7205bca70>]"
      ]
     },
     "execution_count": 9,
     "metadata": {},
     "output_type": "execute_result"
    },
    {
     "data": {
      "image/png": "[encoded data removed]",
      "text/plain": [
       "<Figure size 640x480 with 1 Axes>"
      ]
     },
     "metadata": {},
     "output_type": "display_data"
    }
   ],
   "source": [
    "# define lr scheduling\n",
    "\n",
    "total_steps = len(xtrain) // BATCH + 1\n",
    "\n",
    "lr_scheduler = CosineLRScheduler(total_steps,peak_lr=PEAK_LR,init_lr=INIT_LR,\n",
    "                                 min_lr=END_LR,warmup_rate=WARMUP_RATE)\n",
    "\n",
    "plt.plot([lr_scheduler(i) for i in range(1,total_steps+1)])"
   ]
  },
  {
   "cell_type": "code",
   "execution_count": 10,
   "id": "fad479a8",
   "metadata": {},
   "outputs": [],
   "source": [
    "@tf.function\n",
    "def train_step(x,y,model):\n",
    "    with tf.GradientTape() as tape:\n",
    "        pred = model(x,training=True)\n",
    "        loss = loss_fn(y,pred)\n",
    "    weights = model.trainable_weights\n",
    "    grads = tape.gradient(loss,weights)\n",
    "    opt.apply_gradients(zip(grads,weights))\n",
    "    return loss\n",
    "\n",
    "\n",
    "@tf.function\n",
    "def test_step(x,y,model):\n",
    "    pred = model(x,training=False)\n",
    "    loss = loss_fn(y,pred)\n",
    "    return loss"
   ]
  },
  {
   "cell_type": "code",
   "execution_count": 11,
   "id": "b50872fe",
   "metadata": {},
   "outputs": [
    {
     "name": "stdout",
     "output_type": "stream",
     "text": [
      "EPOCH : 1/3\n"
     ]
    },
    {
     "data": {
      "application/vnd.jupyter.widget-view+json": {
       "model_id": "3232a827a5cb42be9ddfac8983a32875",
       "version_major": 2,
       "version_minor": 0
      },
      "text/plain": [
       "  0%|          | 0/1094 [00:00<?, ?it/s]"
      ]
     },
     "metadata": {},
     "output_type": "display_data"
    },
    {
     "name": "stderr",
     "output_type": "stream",
     "text": [
      "2025-05-16 18:36:48.424997: I tensorflow/core/framework/local_rendezvous.cc:404] Local rendezvous is aborting with status: OUT_OF_RANGE: End of sequence\n"
     ]
    },
    {
     "name": "stdout",
     "output_type": "stream",
     "text": [
      "train_loss : 0.3951\n",
      "val_loss : 0.3236\n",
      "weights saved\n",
      "\n",
      "EPOCH : 2/3\n"
     ]
    },
    {
     "name": "stderr",
     "output_type": "stream",
     "text": [
      "2025-05-16 18:36:52.046569: I tensorflow/core/framework/local_rendezvous.cc:404] Local rendezvous is aborting with status: OUT_OF_RANGE: End of sequence\n"
     ]
    },
    {
     "data": {
      "application/vnd.jupyter.widget-view+json": {
       "model_id": "bcca4fae87d24c25b150d3dc0d0ca789",
       "version_major": 2,
       "version_minor": 0
      },
      "text/plain": [
       "  0%|          | 0/1094 [00:00<?, ?it/s]"
      ]
     },
     "metadata": {},
     "output_type": "display_data"
    },
    {
     "name": "stdout",
     "output_type": "stream",
     "text": [
      "train_loss : 0.3053\n",
      "val_loss : 0.3033\n",
      "weights saved\n",
      "\n",
      "EPOCH : 3/3\n"
     ]
    },
    {
     "name": "stderr",
     "output_type": "stream",
     "text": [
      "2025-05-16 18:38:02.060524: I tensorflow/core/framework/local_rendezvous.cc:404] Local rendezvous is aborting with status: OUT_OF_RANGE: End of sequence\n"
     ]
    },
    {
     "data": {
      "application/vnd.jupyter.widget-view+json": {
       "model_id": "d403206346de406089ca58fe10e0ca2e",
       "version_major": 2,
       "version_minor": 0
      },
      "text/plain": [
       "  0%|          | 0/1094 [00:00<?, ?it/s]"
      ]
     },
     "metadata": {},
     "output_type": "display_data"
    },
    {
     "name": "stdout",
     "output_type": "stream",
     "text": [
      "train_loss : 0.2642\n",
      "val_loss : 0.2993\n",
      "weights saved\n",
      "\n"
     ]
    }
   ],
   "source": [
    "# model training loop\n",
    "\n",
    "losses = {'train':[],'valid':[]}\n",
    "\n",
    "for e in range(1,EPOCHS+1):\n",
    "    \n",
    "    print(f'EPOCH : {e}/{EPOCHS}')\n",
    "    \n",
    "    loss = 0\n",
    "    for i,(x,y) in enumerate(tqdm(train)):\n",
    "        lr = lr_scheduler(i+1)\n",
    "        opt.learning_rate.assign(lr)\n",
    "        loss += train_step(x,y,model)\n",
    "        \n",
    "    train_loss = np.round((loss / (i+1)).numpy(),4)\n",
    "    \n",
    "    losses['train'].append(train_loss)\n",
    "    \n",
    "    loss = 0\n",
    "    for i,(x,y) in enumerate(valid):\n",
    "        loss += test_step(x,y,model)\n",
    "        \n",
    "    \n",
    "    loss = np.round((loss / (i+1)).numpy(),4) \n",
    "    \n",
    "    print('train_loss :',train_loss)\n",
    "    print('val_loss :',loss)\n",
    "    \n",
    "    if e == 1:\n",
    "        model.save_weights(f'saved_weights.weights.h5')\n",
    "        print('weights saved')\n",
    "        \n",
    "    elif e > 1 and min(losses['valid']) > loss:\n",
    "        model.save_weights(f'saved_weights.weights.h5')\n",
    "        print('weights saved')\n",
    "    \n",
    "    losses['valid'].append(loss)\n",
    "    print()"
   ]
  },
  {
   "cell_type": "code",
   "execution_count": 12,
   "id": "76979a11",
   "metadata": {},
   "outputs": [],
   "source": [
    "# load best weights\n",
    "\n",
    "model.load_weights('saved_weights.weights.h5')"
   ]
  },
  {
   "cell_type": "code",
   "execution_count": 13,
   "id": "5615fff9",
   "metadata": {},
   "outputs": [
    {
     "name": "stdout",
     "output_type": "stream",
     "text": [
      "              precision    recall  f1-score   support\n",
      "\n",
      "           0       0.88      0.86      0.87      5005\n",
      "           1       0.86      0.88      0.87      4895\n",
      "\n",
      "    accuracy                           0.87      9900\n",
      "   macro avg       0.87      0.87      0.87      9900\n",
      "weighted avg       0.87      0.87      0.87      9900\n",
      "\n",
      "f1_score : 0.8714733542319749\n"
     ]
    }
   ],
   "source": [
    "# get metrics for test data\n",
    "\n",
    "test = tf.data.Dataset.from_tensor_slices((xtest,ytest)).batch(batch_size=BATCH)\n",
    "\n",
    "preds = []\n",
    "\n",
    "for i,(x,y) in enumerate(test):\n",
    "    mask = x == 0\n",
    "    p = np.round(model(x).numpy()[:,0])\n",
    "    preds.extend(p)\n",
    "    \n",
    "print(classification_report(ytest,preds))\n",
    "print('f1_score :',f1_score(ytest.values,preds))"
   ]
  },
  {
   "cell_type": "code",
   "execution_count": 15,
   "id": "d3d22b14",
   "metadata": {},
   "outputs": [
    {
     "name": "stdout",
     "output_type": "stream",
     "text": [
      "              precision    recall  f1-score   support\n",
      "\n",
      "           0       0.88      0.87      0.87      2590\n",
      "           1       0.87      0.88      0.87      2510\n",
      "\n",
      "    accuracy                           0.87      5100\n",
      "   macro avg       0.87      0.87      0.87      5100\n",
      "weighted avg       0.87      0.87      0.87      5100\n",
      "\n",
      "f1_score : 0.8715814506539834\n"
     ]
    }
   ],
   "source": [
    "# get metrics for val data\n",
    "\n",
    "preds = []\n",
    "\n",
    "for i,(x,y) in enumerate(valid):\n",
    "    mask = x == 0\n",
    "    p = np.round(model(x).numpy()[:,0])\n",
    "    preds.extend(p)\n",
    "    \n",
    "print(classification_report(yval,preds))\n",
    "print('f1_score :',f1_score(yval.values,preds))"
   ]
  },
  {
   "cell_type": "code",
   "execution_count": null,
   "id": "5865f8b1",
   "metadata": {},
   "outputs": [],
   "source": []
  }
 ],
 "metadata": {
  "kernelspec": {
   "display_name": "Python 3 (ipykernel)",
   "language": "python",
   "name": "python3"
  },
  "language_info": {
   "codemirror_mode": {
    "name": "ipython",
    "version": 3
   },
   "file_extension": ".py",
   "mimetype": "text/x-python",
   "name": "python",
   "nbconvert_exporter": "python",
   "pygments_lexer": "ipython3",
   "version": "3.12.3"
  }
 },
 "nbformat": 4,
 "nbformat_minor": 5
}
